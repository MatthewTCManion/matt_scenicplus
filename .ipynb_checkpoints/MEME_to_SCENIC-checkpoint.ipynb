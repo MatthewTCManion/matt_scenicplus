{
 "cells": [
  {
   "cell_type": "code",
   "execution_count": null,
   "id": "93526003-5a0f-45b8-a1d9-d779ed09fd14",
   "metadata": {},
   "outputs": [],
   "source": [
    "#create_cistarget_track_databases"
   ]
  },
  {
   "cell_type": "code",
   "execution_count": null,
   "id": "d93121ec-0684-4816-a259-de522737bd88",
   "metadata": {},
   "outputs": [],
   "source": [
    "module load bedtools"
   ]
  },
  {
   "cell_type": "code",
   "execution_count": 1,
   "id": "9873dd12-3749-4e0f-a8d9-ef3071635f4e",
   "metadata": {},
   "outputs": [
    {
     "name": "stdout",
     "output_type": "stream",
     "text": [
      "Traceback (most recent call last):\n",
      "  File \"/data/PetrosLab/Matt/scenicplus/create_cisTarget_databases/create_cistarget_track_databases.py\", line 19, in <module>\n",
      "    import pandas as pd\n",
      "  File \"/data/manionmat/conda/lib/python3.10/site-packages/pandas/__init__.py\", line 22, in <module>\n",
      "    from pandas.compat import is_numpy_dev as _is_numpy_dev  # pyright: ignore # noqa:F401\n",
      "  File \"/data/manionmat/conda/lib/python3.10/site-packages/pandas/compat/__init__.py\", line 18, in <module>\n",
      "    from pandas.compat.numpy import (\n",
      "  File \"/data/manionmat/conda/lib/python3.10/site-packages/pandas/compat/numpy/__init__.py\", line 4, in <module>\n",
      "    from pandas.util.version import Version\n",
      "  File \"/data/manionmat/conda/lib/python3.10/site-packages/pandas/util/__init__.py\", line 2, in <module>\n",
      "    from pandas.util._decorators import (  # noqa:F401\n",
      "  File \"/data/manionmat/conda/lib/python3.10/site-packages/pandas/util/_decorators.py\", line 14, in <module>\n",
      "    from pandas._libs.properties import cache_readonly\n",
      "  File \"/data/manionmat/conda/lib/python3.10/site-packages/pandas/_libs/__init__.py\", line 13, in <module>\n",
      "    from pandas._libs.interval import Interval\n",
      "  File \"pandas/_libs/interval.pyx\", line 1, in init pandas._libs.interval\n",
      "ValueError: numpy.dtype size changed, may indicate binary incompatibility. Expected 96 from C header, got 88 from PyObject\n"
     ]
    },
    {
     "ename": "",
     "evalue": "1",
     "output_type": "error",
     "traceback": []
    }
   ],
   "source": [
    "#\n",
    "REGION_BED=\"/data/PetrosLab/Matt/CRTools/CRT2Top/CRT2MGELUNG2-2/peakcalling/macs2.narrow/Lung1-56_S9_peaks.narrowPeak\"\n",
    "#GENOME_FASTA=\"/fdb/igenomes/Mus_musculus/UCSC/mm10/Sequence/WholeGenomeFasta/genome.fa\"\n",
    "CHROMSIZES=\"/fdb/igenomes/Mus_musculus/UCSC/mm10/Sequence/WholeGenomeFasta/mm10.chrom.sizes\"\n",
    "SCRIPT_DIR=\"/data/PetrosLab/Matt/scenicplus/create_cisTarget_databases\"\n",
    "BIGWIG_AVERAGE_OVER_BED_PATH=\"${CONDA_PREFIX}/bin/bigWigAverageOverBed\n",
    "\"\n",
    "create_cistarget_databases_dir='/data/PetrosLab/Matt/scenicplus/create_cisTarget_databases'\n",
    "\n",
    "#BED filename which contains the regions/genes to score with - consensus peaks for specific tissue?\n",
    "#BED_FILENAME=''\n",
    "#Path to directory with bigwig track (ChIP-seq) files.\n",
    "TRACKS_DIR='/data/PetrosLab/Matt/CRTools/CRT2Top/CRT2MGELUNG2-2/peakcalling/macs2.narrow'\n",
    "#Filename with list of track IDs to be scored from directory specified by \"--tracks_dir\"\n",
    "TRACKS_LIST_FILENAME='/data/PetrosLab/Matt/scenicplus/consensus_peak_bulk_750bp/tracks_list_lung.txt'\n",
    "DATABASE_PREFIX=\"Nkx_750bp_Lung\"\n",
    "\n",
    "\"${create_cistarget_databases_dir}/create_cistarget_track_databases.py\" \\\n",
    "        -b ${REGION_BED} \\\n",
    "        -T ${TRACKS_DIR} \\\n",
    "        -d ${TRACKS_LIST_FILENAME} \\\n",
    "        -o ${DATABASE_PREFIX} \\\n",
    "        -a ${BIGWIG_AVERAGE_OVER_BED_PATH} \n",
    "        #mm10.Nkx_750bp.with_1kb_bg_padding.fa \\\n",
    "        #1000 \\\n",
    "        #yes\n",
    "\n",
    "#SCRIPT_DIR=\"/data/PetrosLab/Matt/scenicplus/create_cisTarget_databases\"\n",
    "#DATABASE_PREFIX=\"Nkx_750bp\"\n",
    "#OUT_DIR=\"${PWD}\"\n",
    "#CBDIR=\"${OUT_DIR}/aertslab_motif_colleciton/v10nr_clust_public/singletons\"\n",
    "#FASTA_FILE=\"${OUT_DIR}/mm10.Nkx_750bp.with_1kb_bg_padding.fa\"\n",
    "#MOTIF_LIST=\"${OUT_DIR}/motifs.txt\"\n",
    "\n",
    "#\"${SCRIPT_DIR}/create_cistarget_motif_databases.py\" \\\n",
    "#    -f ${FASTA_FILE} \\\n",
    "#    -M ${CBDIR} \\\n",
    "#    -m ${MOTIF_LIST} \\\n",
    "#    -o ${OUT_DIR}/${DATABASE_PREFIX} \\\n",
    "#   --bgpadding 1000 \\\n",
    "#    -t 20"
   ]
  }
 ],
 "metadata": {
  "kernelspec": {
   "display_name": "Bash",
   "language": "bash",
   "name": "bash"
  },
  "language_info": {
   "codemirror_mode": "shell",
   "file_extension": ".sh",
   "mimetype": "text/x-sh",
   "name": "bash"
  },
  "widgets": {
   "application/vnd.jupyter.widget-state+json": {
    "state": {},
    "version_major": 2,
    "version_minor": 0
   }
  }
 },
 "nbformat": 4,
 "nbformat_minor": 5
}
